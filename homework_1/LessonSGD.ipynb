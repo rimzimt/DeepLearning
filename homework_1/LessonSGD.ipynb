{
  "nbformat": 4,
  "nbformat_minor": 0,
  "metadata": {
    "colab": {
      "name": "LessonSGD.ipynb",
      "provenance": [],
      "collapsed_sections": []
    },
    "kernelspec": {
      "name": "python3",
      "display_name": "Python 3"
    },
    "accelerator": "GPU"
  },
  "cells": [
    {
      "cell_type": "markdown",
      "metadata": {
        "id": "J1Qt5KjRgkiY",
        "colab_type": "text"
      },
      "source": [
        "**Linear Regression Problem**"
      ]
    },
    {
      "cell_type": "code",
      "metadata": {
        "id": "EG3EO7nQgeRH",
        "colab_type": "code",
        "colab": {}
      },
      "source": [
        "%matplotlib inline\n",
        "from fastai.basics import *"
      ],
      "execution_count": 0,
      "outputs": []
    },
    {
      "cell_type": "code",
      "metadata": {
        "id": "kxaJZCWKgvrY",
        "colab_type": "code",
        "colab": {}
      },
      "source": [
        "n=100"
      ],
      "execution_count": 0,
      "outputs": []
    },
    {
      "cell_type": "code",
      "metadata": {
        "id": "k4xBgjCwg5WK",
        "colab_type": "code",
        "colab": {
          "base_uri": "https://localhost:8080/",
          "height": 102
        },
        "outputId": "106a5f14-a1c0-4191-b7db-ac43e7e9edff"
      },
      "source": [
        "x = torch.ones(n,2) \n",
        "x[:,0].uniform_(-1.,1)\n",
        "x[:5]"
      ],
      "execution_count": 3,
      "outputs": [
        {
          "output_type": "execute_result",
          "data": {
            "text/plain": [
              "tensor([[-0.8142,  1.0000],\n",
              "        [-0.2920,  1.0000],\n",
              "        [-0.0648,  1.0000],\n",
              "        [-0.6018,  1.0000],\n",
              "        [ 0.1305,  1.0000]])"
            ]
          },
          "metadata": {
            "tags": []
          },
          "execution_count": 3
        }
      ]
    },
    {
      "cell_type": "code",
      "metadata": {
        "id": "4uxiGEulg7zN",
        "colab_type": "code",
        "colab": {
          "base_uri": "https://localhost:8080/",
          "height": 34
        },
        "outputId": "20d3f1d8-f196-4418-80e9-f2dced2e5b4c"
      },
      "source": [
        "a = tensor(3.,2); a"
      ],
      "execution_count": 4,
      "outputs": [
        {
          "output_type": "execute_result",
          "data": {
            "text/plain": [
              "tensor([3., 2.])"
            ]
          },
          "metadata": {
            "tags": []
          },
          "execution_count": 4
        }
      ]
    },
    {
      "cell_type": "code",
      "metadata": {
        "id": "OQ_L9XGbg-eC",
        "colab_type": "code",
        "colab": {}
      },
      "source": [
        "y = x@a + torch.rand(n)"
      ],
      "execution_count": 0,
      "outputs": []
    },
    {
      "cell_type": "code",
      "metadata": {
        "id": "78byC7aAhA1W",
        "colab_type": "code",
        "colab": {
          "base_uri": "https://localhost:8080/",
          "height": 265
        },
        "outputId": "94c86217-6ca9-400b-b1b8-38776c8f912d"
      },
      "source": [
        "plt.scatter(x[:,0], y);"
      ],
      "execution_count": 6,
      "outputs": [
        {
          "output_type": "display_data",
          "data": {
            "image/png": "[encoded data removed]",
            "text/plain": [
              "<Figure size 432x288 with 1 Axes>"
            ]
          },
          "metadata": {
            "tags": []
          }
        }
      ]
    },
    {
      "cell_type": "code",
      "metadata": {
        "id": "DhHkJ7RWhF8V",
        "colab_type": "code",
        "colab": {}
      },
      "source": [
        "def mse(y_hat, y): return ((y_hat-y)**2).mean()"
      ],
      "execution_count": 0,
      "outputs": []
    },
    {
      "cell_type": "code",
      "metadata": {
        "id": "AGJQCY4qhIRR",
        "colab_type": "code",
        "colab": {}
      },
      "source": [
        "a = tensor(-1.,1)"
      ],
      "execution_count": 0,
      "outputs": []
    },
    {
      "cell_type": "code",
      "metadata": {
        "id": "lj3vT5nhhKgT",
        "colab_type": "code",
        "colab": {
          "base_uri": "https://localhost:8080/",
          "height": 34
        },
        "outputId": "a0d166b1-91fe-4a42-fc7a-6c5a8f5e94f1"
      },
      "source": [
        "y_hat = x@a\n",
        "mse(y_hat, y)"
      ],
      "execution_count": 9,
      "outputs": [
        {
          "output_type": "execute_result",
          "data": {
            "text/plain": [
              "tensor(6.4442)"
            ]
          },
          "metadata": {
            "tags": []
          },
          "execution_count": 9
        }
      ]
    },
    {
      "cell_type": "code",
      "metadata": {
        "id": "jC1_ASDdhNLX",
        "colab_type": "code",
        "colab": {
          "base_uri": "https://localhost:8080/",
          "height": 265
        },
        "outputId": "3d041866-203c-4472-b66c-9e8638a3d51a"
      },
      "source": [
        "plt.scatter(x[:,0],y)\n",
        "plt.scatter(x[:,0],y_hat);"
      ],
      "execution_count": 10,
      "outputs": [
        {
          "output_type": "display_data",
          "data": {
            "image/png": "[encoded data removed]",
            "text/plain": [
              "<Figure size 432x288 with 1 Axes>"
            ]
          },
          "metadata": {
            "tags": []
          }
        }
      ]
    },
    {
      "cell_type": "code",
      "metadata": {
        "id": "ypGmM-pQhRGA",
        "colab_type": "code",
        "colab": {
          "base_uri": "https://localhost:8080/",
          "height": 51
        },
        "outputId": "e1ca1289-c535-42f0-cee1-829cbcbdf45f"
      },
      "source": [
        "a = nn.Parameter(a); a"
      ],
      "execution_count": 11,
      "outputs": [
        {
          "output_type": "execute_result",
          "data": {
            "text/plain": [
              "Parameter containing:\n",
              "tensor([-1.,  1.], requires_grad=True)"
            ]
          },
          "metadata": {
            "tags": []
          },
          "execution_count": 11
        }
      ]
    },
    {
      "cell_type": "code",
      "metadata": {
        "id": "8dF3WcQQhaTv",
        "colab_type": "code",
        "colab": {}
      },
      "source": [
        "def update():\n",
        "    y_hat = x@a\n",
        "    loss = mse(y, y_hat)\n",
        "    if t % 10 == 0: print(loss)\n",
        "    loss.backward()\n",
        "    with torch.no_grad():\n",
        "        a.sub_(lr * a.grad)\n",
        "        a.grad.zero_()"
      ],
      "execution_count": 0,
      "outputs": []
    },
    {
      "cell_type": "code",
      "metadata": {
        "id": "E3c49zoLhckz",
        "colab_type": "code",
        "colab": {
          "base_uri": "https://localhost:8080/",
          "height": 187
        },
        "outputId": "10fb3e32-c97e-4292-eb55-51ed243348bb"
      },
      "source": [
        "lr = 1e-1\n",
        "for t in range(100): update()"
      ],
      "execution_count": 16,
      "outputs": [
        {
          "output_type": "stream",
          "text": [
            "tensor(0.0796, grad_fn=<MeanBackward0>)\n",
            "tensor(0.0796, grad_fn=<MeanBackward0>)\n",
            "tensor(0.0796, grad_fn=<MeanBackward0>)\n",
            "tensor(0.0796, grad_fn=<MeanBackward0>)\n",
            "tensor(0.0796, grad_fn=<MeanBackward0>)\n",
            "tensor(0.0796, grad_fn=<MeanBackward0>)\n",
            "tensor(0.0796, grad_fn=<MeanBackward0>)\n",
            "tensor(0.0796, grad_fn=<MeanBackward0>)\n",
            "tensor(0.0796, grad_fn=<MeanBackward0>)\n",
            "tensor(0.0796, grad_fn=<MeanBackward0>)\n"
          ],
          "name": "stdout"
        }
      ]
    },
    {
      "cell_type": "code",
      "metadata": {
        "id": "RgLVQQ_Dhezl",
        "colab_type": "code",
        "colab": {
          "base_uri": "https://localhost:8080/",
          "height": 265
        },
        "outputId": "89773a60-b909-430c-ce7f-d9959ff31ed3"
      },
      "source": [
        "with torch.no_grad():\n",
        "  plt.scatter(x[:,0],y)\n",
        "  plt.scatter(x[:,0],x@a);"
      ],
      "execution_count": 20,
      "outputs": [
        {
          "output_type": "display_data",
          "data": {
            "image/png": "[encoded data removed]",
            "text/plain": [
              "<Figure size 432x288 with 1 Axes>"
            ]
          },
          "metadata": {
            "tags": []
          }
        }
      ]
    },
    {
      "cell_type": "code",
      "metadata": {
        "id": "ACV8WQE5huuf",
        "colab_type": "code",
        "colab": {}
      },
      "source": [
        "from matplotlib import animation, rc\n",
        "rc('animation', html='jshtml')"
      ],
      "execution_count": 0,
      "outputs": []
    },
    {
      "cell_type": "code",
      "metadata": {
        "id": "zgvWEUUlhxr4",
        "colab_type": "code",
        "colab": {}
      },
      "source": [
        "with torch.no_grad():\n",
        "  a = nn.Parameter(tensor(-1.,1))\n",
        "\n",
        "  fig = plt.figure()\n",
        "  plt.scatter(x[:,0], y, c='orange')\n",
        "  line, = plt.plot(x[:,0], x@a)\n",
        "  plt.close()\n",
        "\n",
        "  def animate(i):\n",
        "      update()\n",
        "      line.set_ydata(x@a)\n",
        "      return line,\n",
        "\n",
        "  animation.FuncAnimation(fig, animate, np.arange(0, 100), interval=20)"
      ],
      "execution_count": 0,
      "outputs": []
    }
  ]
}